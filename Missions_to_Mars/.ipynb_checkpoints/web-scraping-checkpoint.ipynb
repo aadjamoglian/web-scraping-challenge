{
 "cells": [
  {
   "cell_type": "code",
   "execution_count": 1,
   "metadata": {},
   "outputs": [],
   "source": [
    "from splinter import Browser\n",
    "from splinter.exceptions import ElementDoesNotExist\n",
    "from bs4 import BeautifulSoup\n",
    "from pprint import pprint\n",
    "import requests\n",
    "import pandas as pd\n",
    "import time"
   ]
  },
  {
   "cell_type": "code",
   "execution_count": 2,
   "metadata": {},
   "outputs": [],
   "source": [
    "executable_path = {'executable_path': 'chromedriver.exe'}\n",
    "browser = Browser('chrome', **executable_path, headless=False)"
   ]
  },
  {
   "cell_type": "code",
   "execution_count": 3,
   "metadata": {},
   "outputs": [],
   "source": [
    "url = 'https://mars.nasa.gov/news/'\n",
    "browser.visit(url)\n",
    "time.sleep(5)"
   ]
  },
  {
   "cell_type": "code",
   "execution_count": 4,
   "metadata": {},
   "outputs": [],
   "source": [
    "html = browser.html\n",
    "soup = BeautifulSoup(html, 'html.parser')"
   ]
  },
  {
   "cell_type": "code",
   "execution_count": 5,
   "metadata": {},
   "outputs": [],
   "source": [
    "result = soup.find(\"li\", class_=\"slide\")"
   ]
  },
  {
   "cell_type": "code",
   "execution_count": 6,
   "metadata": {},
   "outputs": [
    {
     "name": "stdout",
     "output_type": "stream",
     "text": [
      "('<li class=\"slide\">\\n'\n",
      " ' <div class=\"image_and_description_container\">\\n'\n",
      " '  <a href=\"/news/8578/media-get-a-close-up-of-nasas-mars-2020-rover/\" '\n",
      " 'target=\"_self\">\\n'\n",
      " '   <div class=\"rollover_description\">\\n'\n",
      " '    <div class=\"rollover_description_inner\">\\n'\n",
      " \"     The clean room at NASA's Jet Propulsion Laboratory was open to the \"\n",
      " \"media to see NASA's next Mars explorer before it leaves for Florida in \"\n",
      " 'preparation for a summertime launch.\\n'\n",
      " '    </div>\\n'\n",
      " '    <div class=\"overlay_arrow\">\\n'\n",
      " '     <img alt=\"More\" src=\"/assets/overlay-arrow.png\"/>\\n'\n",
      " '    </div>\\n'\n",
      " '   </div>\\n'\n",
      " '   <div class=\"list_image\">\\n'\n",
      " '    <img alt=\"Members of the media interview the builders of the Mars 2020 '\n",
      " 'mission inside JPL\\'s clean room.\" '\n",
      " 'src=\"/system/news_items/list_view_images/8578_24741_PIA23586-SAFfloor-MAIN-16_320x240px.jpg\"/>\\n'\n",
      " '   </div>\\n'\n",
      " '   <div class=\"bottom_gradient\">\\n'\n",
      " '    <div>\\n'\n",
      " '     <h3>\\n'\n",
      " \"      Media Get a Close-Up of NASA's Mars 2020 Rover\\n\"\n",
      " '     </h3>\\n'\n",
      " '    </div>\\n'\n",
      " '   </div>\\n'\n",
      " '  </a>\\n'\n",
      " '  <div class=\"list_text\">\\n'\n",
      " '   <div class=\"list_date\">\\n'\n",
      " '    December 27, 2019\\n'\n",
      " '   </div>\\n'\n",
      " '   <div class=\"content_title\">\\n'\n",
      " '    <a href=\"/news/8578/media-get-a-close-up-of-nasas-mars-2020-rover/\" '\n",
      " 'target=\"_self\">\\n'\n",
      " \"     Media Get a Close-Up of NASA's Mars 2020 Rover\\n\"\n",
      " '    </a>\\n'\n",
      " '   </div>\\n'\n",
      " '   <div class=\"article_teaser_body\">\\n'\n",
      " \"    The clean room at NASA's Jet Propulsion Laboratory was open to the media \"\n",
      " \"to see NASA's next Mars explorer before it leaves for Florida in preparation \"\n",
      " 'for a summertime launch.\\n'\n",
      " '   </div>\\n'\n",
      " '  </div>\\n'\n",
      " ' </div>\\n'\n",
      " '</li>\\n')\n"
     ]
    }
   ],
   "source": [
    "pprint(result.prettify())"
   ]
  },
  {
   "cell_type": "code",
   "execution_count": 7,
   "metadata": {},
   "outputs": [
    {
     "name": "stdout",
     "output_type": "stream",
     "text": [
      "Media Get a Close-Up of NASA's Mars 2020 Rover\n"
     ]
    }
   ],
   "source": [
    "# NASA Title\n",
    "\n",
    "title_text = result.h3.text\n",
    "print(title_text)"
   ]
  },
  {
   "cell_type": "code",
   "execution_count": 8,
   "metadata": {},
   "outputs": [
    {
     "name": "stdout",
     "output_type": "stream",
     "text": [
      "The clean room at NASA's Jet Propulsion Laboratory was open to the media to see NASA's next Mars explorer before it leaves for Florida in preparation for a summertime launch.\n"
     ]
    }
   ],
   "source": [
    "# NASA Summary\n",
    "\n",
    "p_text = result.find(\"div\", class_=\"article_teaser_body\").text\n",
    "print(p_text)"
   ]
  },
  {
   "cell_type": "code",
   "execution_count": 9,
   "metadata": {},
   "outputs": [],
   "source": [
    "url2 = \"https://www.jpl.nasa.gov/spaceimages/?search=&category=Mars\"\n",
    "browser.visit(url2)"
   ]
  },
  {
   "cell_type": "code",
   "execution_count": 10,
   "metadata": {},
   "outputs": [],
   "source": [
    "try:\n",
    "    browser.click_link_by_partial_text('FULL IMAGE')\n",
    "        \n",
    "except ElementDoesNotExist:\n",
    "    print(\"Scraping Complete\")   \n",
    "    \n",
    "time.sleep(5)"
   ]
  },
  {
   "cell_type": "code",
   "execution_count": 11,
   "metadata": {},
   "outputs": [],
   "source": [
    "html = browser.html\n",
    "soup = BeautifulSoup(html, 'html.parser')"
   ]
  },
  {
   "cell_type": "code",
   "execution_count": 12,
   "metadata": {},
   "outputs": [
    {
     "name": "stdout",
     "output_type": "stream",
     "text": [
      "/spaceimages/images/mediumsize/PIA19382_ip.jpg\n"
     ]
    }
   ],
   "source": [
    "image_link_short = soup.find(\"div\", class_=\"fancybox-inner\").img['src']\n",
    "print(image_link_short)"
   ]
  },
  {
   "cell_type": "code",
   "execution_count": 13,
   "metadata": {},
   "outputs": [
    {
     "name": "stdout",
     "output_type": "stream",
     "text": [
      "https://www.jpl.nasa.gov/spaceimages/images/mediumsize/PIA19382_ip.jpg\n"
     ]
    }
   ],
   "source": [
    "# Cover Image full URL\n",
    "\n",
    "image_link = f\"https://www.jpl.nasa.gov{image_link_short}\"\n",
    "print(image_link)"
   ]
  },
  {
   "cell_type": "code",
   "execution_count": 14,
   "metadata": {},
   "outputs": [],
   "source": [
    "twitter_mars = \"https://twitter.com/marswxreport?lang=en\""
   ]
  },
  {
   "cell_type": "code",
   "execution_count": 15,
   "metadata": {},
   "outputs": [],
   "source": [
    "page = requests.get(twitter_mars)"
   ]
  },
  {
   "cell_type": "code",
   "execution_count": 16,
   "metadata": {},
   "outputs": [],
   "source": [
    "soup = BeautifulSoup(page.text, \"html.parser\")"
   ]
  },
  {
   "cell_type": "code",
   "execution_count": 17,
   "metadata": {},
   "outputs": [
    {
     "name": "stdout",
     "output_type": "stream",
     "text": [
      "InSight sol 398 (2020-01-09) low -100.6ºC (-149.1ºF) high -16.8ºC (1.8ºF)\n",
      "winds from the SSE at 6.1 m/s (13.6 mph) gusting to 19.5 m/s (43.7 mph)\n",
      "pressure at 6.40 hPapic.twitter.com/kmdvrZ2M8m\n"
     ]
    }
   ],
   "source": [
    "# Mars weather\n",
    "\n",
    "mars_weather = soup.find(\"p\", class_=\"TweetTextSize\").text\n",
    "print(mars_weather)"
   ]
  },
  {
   "cell_type": "code",
   "execution_count": 18,
   "metadata": {},
   "outputs": [],
   "source": [
    "mars_table_url = \"https://space-facts.com/mars/\""
   ]
  },
  {
   "cell_type": "code",
   "execution_count": 19,
   "metadata": {},
   "outputs": [],
   "source": [
    "response = requests.get(mars_table_url)\n",
    "soup = BeautifulSoup(response.content,'html.parser')\n",
    "table = soup.find('table')"
   ]
  },
  {
   "cell_type": "code",
   "execution_count": 20,
   "metadata": {},
   "outputs": [
    {
     "name": "stdout",
     "output_type": "stream",
     "text": [
      "<table class=\"tablepress tablepress-id-p-mars\" id=\"tablepress-p-mars\"><tbody><tr class=\"row-1 odd\"><td class=\"column-1\"><strong>Equatorial Diameter:</strong></td><td class=\"column-2\">6,792 km<br/></td></tr><tr class=\"row-2 even\"><td class=\"column-1\"><strong>Polar Diameter:</strong></td><td class=\"column-2\">6,752 km<br/></td></tr><tr class=\"row-3 odd\"><td class=\"column-1\"><strong>Mass:</strong></td><td class=\"column-2\">6.39 × 10^23 kg<br/> (0.11 Earths)</td></tr><tr class=\"row-4 even\"><td class=\"column-1\"><strong>Moons:</strong></td><td class=\"column-2\">2 (<a href=\"https://space-facts.com/moons/phobos/\">Phobos</a> &amp; <a href=\"https://space-facts.com/moons/deimos/\">Deimos</a>)</td></tr><tr class=\"row-5 odd\"><td class=\"column-1\"><strong>Orbit Distance:</strong></td><td class=\"column-2\">227,943,824 km<br/> (1.38 AU)</td></tr><tr class=\"row-6 even\"><td class=\"column-1\"><strong>Orbit Period:</strong></td><td class=\"column-2\">687 days (1.9 years)<br/></td></tr><tr class=\"row-7 odd\"><td class=\"column-1\"><strong>Surface Temperature: </strong></td><td class=\"column-2\">-87 to -5 °C</td></tr><tr class=\"row-8 even\"><td class=\"column-1\"><strong>First Record:</strong></td><td class=\"column-2\">2nd millennium BC</td></tr><tr class=\"row-9 odd\"><td class=\"column-1\"><strong>Recorded By:</strong></td><td class=\"column-2\">Egyptian astronomers</td></tr></tbody></table>\n"
     ]
    }
   ],
   "source": [
    "print(table)"
   ]
  },
  {
   "cell_type": "code",
   "execution_count": 21,
   "metadata": {},
   "outputs": [],
   "source": [
    "# Mars table in dataframe\n",
    "\n",
    "df = pd.read_html(str(table))"
   ]
  },
  {
   "cell_type": "code",
   "execution_count": 22,
   "metadata": {},
   "outputs": [
    {
     "name": "stdout",
     "output_type": "stream",
     "text": [
      "[                      0                              1\n",
      "0  Equatorial Diameter:                       6,792 km\n",
      "1       Polar Diameter:                       6,752 km\n",
      "2                 Mass:  6.39 × 10^23 kg (0.11 Earths)\n",
      "3                Moons:            2 (Phobos & Deimos)\n",
      "4       Orbit Distance:       227,943,824 km (1.38 AU)\n",
      "5         Orbit Period:           687 days (1.9 years)\n",
      "6  Surface Temperature:                   -87 to -5 °C\n",
      "7         First Record:              2nd millennium BC\n",
      "8          Recorded By:           Egyptian astronomers]\n"
     ]
    }
   ],
   "source": [
    "print(df)"
   ]
  },
  {
   "cell_type": "code",
   "execution_count": 23,
   "metadata": {},
   "outputs": [],
   "source": [
    "hemi_url = \"https://astrogeology.usgs.gov/search/results?q=hemisphere+enhanced&k1=target&v1=Mars\""
   ]
  },
  {
   "cell_type": "code",
   "execution_count": 24,
   "metadata": {},
   "outputs": [],
   "source": [
    "# browser.visit(hemi_url)"
   ]
  },
  {
   "cell_type": "code",
   "execution_count": 25,
   "metadata": {},
   "outputs": [],
   "source": [
    "# hemis = {}"
   ]
  },
  {
   "cell_type": "code",
   "execution_count": 26,
   "metadata": {},
   "outputs": [],
   "source": [
    "# #  Does not work use alternative one below\n",
    "\n",
    "# html = browser.html\n",
    "# soup = BeautifulSoup(html, 'html.parser')\n",
    "\n",
    "# for i in range(0,4):\n",
    "\n",
    "#     hemi_name = soup.find_all(\"h3\")[i].text\n",
    "\n",
    "#     try:\n",
    "#         browser.click_link_by_partial_text('Hemisphere')\n",
    "\n",
    "#     except ElementDoesNotExist:\n",
    "#         print(\"Scraping Complete\")\n",
    "        \n",
    "#     time.sleep(10)\n",
    "        \n",
    "#     try:\n",
    "#         browser.click_link_by_partial_text('Sample')\n",
    "        \n",
    "#     except ElementDoesNotExist:\n",
    "#         print(\"Scraping Complete\")\n",
    "        \n",
    "#     browser.windows[i]\n",
    "            \n",
    "#     hemi_image_link = soup.img['src']\n",
    "\n",
    "#     hemis[hemi_name] = hemi_image_link\n",
    "    \n",
    "#     browser.visit(hemi_url)\n",
    "    \n",
    "#     time.sleep(10)\n"
   ]
  },
  {
   "cell_type": "code",
   "execution_count": 27,
   "metadata": {},
   "outputs": [],
   "source": [
    "# print(hemis)"
   ]
  },
  {
   "cell_type": "code",
   "execution_count": 28,
   "metadata": {},
   "outputs": [],
   "source": [
    "# html = browser.html\n",
    "# soup = BeautifulSoup(html, 'html.parser')"
   ]
  },
  {
   "cell_type": "code",
   "execution_count": 29,
   "metadata": {},
   "outputs": [],
   "source": [
    "# hemi_names_list = []"
   ]
  },
  {
   "cell_type": "code",
   "execution_count": 30,
   "metadata": {},
   "outputs": [],
   "source": [
    "# browser.windows[0]\n",
    "# for i in range(0,4):\n",
    "#     hemi_names_list.append(soup.find_all(\"h3\")[i].text)\n",
    "#     print(soup.find_all(\"h3\")[i].text)    "
   ]
  },
  {
   "cell_type": "code",
   "execution_count": 31,
   "metadata": {},
   "outputs": [],
   "source": [
    "# print(hemi_names_list)"
   ]
  },
  {
   "cell_type": "code",
   "execution_count": 32,
   "metadata": {},
   "outputs": [],
   "source": [
    "# hemis_image_links = []"
   ]
  },
  {
   "cell_type": "code",
   "execution_count": 33,
   "metadata": {},
   "outputs": [],
   "source": [
    "# executable_path = {'executable_path': 'chromedriver.exe'}\n",
    "# browser = Browser('chrome', **executable_path, headless=False)"
   ]
  },
  {
   "cell_type": "code",
   "execution_count": 34,
   "metadata": {},
   "outputs": [],
   "source": [
    "# browser.visit(hemi_url)"
   ]
  },
  {
   "cell_type": "code",
   "execution_count": 36,
   "metadata": {},
   "outputs": [],
   "source": [
    "### FOR SCRAPE FUNCTION\n",
    "\n",
    "hemi_names_list = []\n",
    "hemis_image_links = []\n",
    "mars_hemis = []\n",
    "\n",
    "hemi_url = \"https://astrogeology.usgs.gov/search/results?q=hemisphere+enhanced&k1=target&v1=Mars\"\n",
    "\n",
    "executable_path = {'executable_path': 'chromedriver.exe'}\n",
    "browser = Browser('chrome', **executable_path, headless=False)\n",
    "\n",
    "browser.visit(hemi_url)\n",
    "\n",
    "html = browser.html\n",
    "soup = BeautifulSoup(html, 'html.parser')\n",
    "\n",
    "browser.windows[0]\n",
    "for i in range(0,4):\n",
    "    hemi_names_list.append(soup.find_all(\"h3\")[i].text)\n",
    "\n",
    "for i in hemi_names_list:\n",
    "    \n",
    "    try:\n",
    "        browser.click_link_by_partial_text(i)\n",
    "\n",
    "    except ElementDoesNotExist:\n",
    "        print(\"Scraping Complete\")\n",
    "        \n",
    "    time.sleep(5)\n",
    "    \n",
    "    try:\n",
    "        browser.click_link_by_partial_text('Sample')\n",
    "        \n",
    "    except ElementDoesNotExist:\n",
    "        print(\"Scraping Complete\")\n",
    "        \n",
    "    time.sleep(5)\n",
    "        \n",
    "    browser.windows.current = browser.windows[hemi_names_list.index(i)+1]\n",
    "    \n",
    "    html = browser.html\n",
    "    soup = BeautifulSoup(html, 'html.parser')\n",
    "    \n",
    "    hemi_image_link = soup.img['src']\n",
    "    \n",
    "    hemis_image_links.append(hemi_image_link)\n",
    "    \n",
    "    browser.windows.current = browser.windows[0]\n",
    "    \n",
    "    html = browser.html\n",
    "    soup = BeautifulSoup(html, 'html.parser')\n",
    "    \n",
    "    browser.back()\n",
    "    \n",
    "    time.sleep(5)   \n",
    "    \n",
    "time.sleep(2)\n",
    "    \n",
    "    \n",
    "for i in range(0,4):\n",
    "    mars_hemis.append({\"title\": hemi_names_list[i], \"image_url\": hemis_image_links[i]})"
   ]
  },
  {
   "cell_type": "code",
   "execution_count": 37,
   "metadata": {},
   "outputs": [
    {
     "data": {
      "text/plain": [
       "[{'title': 'Cerberus Hemisphere Enhanced',\n",
       "  'image_url': 'https://astropedia.astrogeology.usgs.gov/download/Mars/Viking/cerberus_enhanced.tif/full.jpg'},\n",
       " {'title': 'Schiaparelli Hemisphere Enhanced',\n",
       "  'image_url': 'https://astropedia.astrogeology.usgs.gov/download/Mars/Viking/schiaparelli_enhanced.tif/full.jpg'},\n",
       " {'title': 'Syrtis Major Hemisphere Enhanced',\n",
       "  'image_url': 'https://astropedia.astrogeology.usgs.gov/download/Mars/Viking/syrtis_major_enhanced.tif/full.jpg'},\n",
       " {'title': 'Valles Marineris Hemisphere Enhanced',\n",
       "  'image_url': 'https://astropedia.astrogeology.usgs.gov/download/Mars/Viking/valles_marineris_enhanced.tif/full.jpg'}]"
      ]
     },
     "execution_count": 37,
     "metadata": {},
     "output_type": "execute_result"
    }
   ],
   "source": [
    "mars_hemis"
   ]
  },
  {
   "cell_type": "code",
   "execution_count": null,
   "metadata": {},
   "outputs": [],
   "source": []
  }
 ],
 "metadata": {
  "kernelspec": {
   "display_name": "Python 3",
   "language": "python",
   "name": "python3"
  },
  "language_info": {
   "codemirror_mode": {
    "name": "ipython",
    "version": 3
   },
   "file_extension": ".py",
   "mimetype": "text/x-python",
   "name": "python",
   "nbconvert_exporter": "python",
   "pygments_lexer": "ipython3",
   "version": "3.6.9"
  }
 },
 "nbformat": 4,
 "nbformat_minor": 4
}
